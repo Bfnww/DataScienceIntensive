{
 "cells": [
  {
   "cell_type": "markdown",
   "metadata": {},
   "source": [
    "\n",
    "### Examining racial discrimination in the US job market\n",
    "\n",
    "#### Background\n",
    "Racial discrimination continues to be pervasive in cultures throughout the world. Researchers examined the level of racial discrimination in the United States labor market by randomly assigning identical résumés black-sounding or white-sounding names and observing the impact on requests for interviews from employers.\n",
    "\n",
    "#### Data\n",
    "In the dataset provided, each row represents a resume. The 'race' column has two values, 'b' and 'w', indicating black-sounding and white-sounding. The column 'call' has two values, 1 and 0, indicating whether the resume received a call from employers or not.\n",
    "\n",
    "Note that the 'b' and 'w' values in race are assigned randomly to the resumes.\n",
    "\n",
    "#### Exercise\n",
    "You will perform a statistical analysis to establish whether race has a significant impact on the rate of callbacks for resumes.\n",
    "\n",
    "Answer the following questions **in this notebook below and submit to your Github account**. \n",
    "\n",
    "   1. What test is appropriate for this problem? Does CLT apply?\n",
    "   2. What are the null and alternate hypotheses?\n",
    "   3. Compute margin of error, confidence interval, and p-value.\n",
    "   4. Discuss statistical significance.\n",
    "\n",
    "You can include written notes in notebook cells using Markdown: \n",
    "   - In the control panel at the top, choose Cell > Cell Type > Markdown\n",
    "   - Markdown syntax: http://nestacms.com/docs/creating-content/markdown-cheat-sheet\n",
    "\n",
    "\n",
    "#### Resources\n",
    "+ Experiment information and data source: http://www.povertyactionlab.org/evaluation/discrimination-job-market-united-states\n",
    "+ Scipy statistical methods: http://docs.scipy.org/doc/scipy/reference/stats.html \n",
    "+ Markdown syntax: http://nestacms.com/docs/creating-content/markdown-cheat-sheet\n",
    "\n",
    "****"
   ]
  },
  {
   "cell_type": "code",
   "execution_count": 1,
   "metadata": {
    "collapsed": true
   },
   "outputs": [],
   "source": [
    "import pandas as pd\n",
    "import numpy as np\n",
    "import math\n",
    "from scipy import stats"
   ]
  },
  {
   "cell_type": "code",
   "execution_count": 2,
   "metadata": {
    "collapsed": false
   },
   "outputs": [],
   "source": [
    "data = pd.io.stata.read_stata('data/us_job_market_discrimination.dta')"
   ]
  },
  {
   "cell_type": "code",
   "execution_count": 3,
   "metadata": {
    "collapsed": false
   },
   "outputs": [
    {
     "data": {
      "text/plain": [
       "157.0"
      ]
     },
     "execution_count": 3,
     "metadata": {},
     "output_type": "execute_result"
    }
   ],
   "source": [
    "# number of callbacks for balck-sounding names\n",
    "sum(data[data.race=='b'].call)"
   ]
  },
  {
   "cell_type": "code",
   "execution_count": 4,
   "metadata": {
    "collapsed": false
   },
   "outputs": [
    {
     "name": "stdout",
     "output_type": "stream",
     "text": [
      "2435\n",
      "2435\n"
     ]
    }
   ],
   "source": [
    "data.head()\n",
    "N = len(data[data.race == 'b'])\n",
    "print len(data[data.race == 'b'])\n",
    "print len(data[data.race == 'w'])"
   ]
  },
  {
   "cell_type": "markdown",
   "metadata": {},
   "source": [
    "### 1.What test is appropriate for this problem? Does CLT apply\n",
    "Two-sample test is appropirate for this problem. Since both race of 'b' amd race of 'w' have the same number of samples and the number is much greater than 30, CLT applies"
   ]
  },
  {
   "cell_type": "markdown",
   "metadata": {},
   "source": [
    "### 2. What are the null and alternate hypotheses?\n",
    " * Null hypothesis: pw = pb = pbar, pw-pb =0\n",
    " * Alternative hypothesis: pw~=pb, pw-pb~=0"
   ]
  },
  {
   "cell_type": "markdown",
   "metadata": {},
   "source": [
    "### 3.Compute margin of error, confidence interval, and p-value."
   ]
  },
  {
   "cell_type": "code",
   "execution_count": 9,
   "metadata": {
    "collapsed": false
   },
   "outputs": [
    {
     "name": "stdout",
     "output_type": "stream",
     "text": [
      "pb= 0.064476386037\n",
      "pw= 0.0965092402464\n"
     ]
    }
   ],
   "source": [
    "# sampling probability of callbacks for black-sounding names\n",
    "pb = sum(data[data.race == 'b'].call)/len(data[data.race == 'b'])\n",
    "# sampling probability of callbacks for white-sounding names\n",
    "pw = sum(data[data.race == 'w'].call)/len(data[data.race == 'w'])\n",
    "print 'pb=',pb\n",
    "print 'pw=',pw"
   ]
  },
  {
   "cell_type": "code",
   "execution_count": 44,
   "metadata": {
    "collapsed": false
   },
   "outputs": [
    {
     "name": "stdout",
     "output_type": "stream",
     "text": [
      "d: 3.2897072539 \n",
      "\n",
      "95% confidence interval:\n",
      "0.00642784353064 0.0576378648883 \n",
      "\n",
      "There is 95% chance that the true population difference is in the above interval.\n"
     ]
    }
   ],
   "source": [
    "# Appply Bernoulii distribution \n",
    "# sampling mean\n",
    "pb = pb\n",
    "pw = pw\n",
    "# sampling variance\n",
    "sb = pb*(1-pb)/N\n",
    "sw = pw*(1-pw)/N\n",
    "# sample std of p1-p2\n",
    "sw_sb = math.sqrt(sw+sb)\n",
    "# difference between mean\n",
    "pw_pb = pw-pb\n",
    "# two side, alpha = 0.5\n",
    "cv = stats.norm.ppf(.95)*2\n",
    "print 'd:',cv,'\\n'\n",
    "# confidence interval\n",
    "c1 = pw_pb + cv*sw_sb\n",
    "c2 = pw_pb - cv*sw_sb\n",
    "print '95% confidence interval:'\n",
    "print c2,c1,'\\n'\n",
    "#print pw_pb\n",
    "print 'There is 95% chance that the true population difference is in the above interval.'"
   ]
  },
  {
   "cell_type": "markdown",
   "metadata": {},
   "source": [
    "Assume : pw = pb = p\n",
    "Spw_pb = math.sqrt(p(1-p)/N+p(1-p)/N)"
   ]
  },
  {
   "cell_type": "code",
   "execution_count": 40,
   "metadata": {
    "collapsed": false
   },
   "outputs": [
    {
     "name": "stdout",
     "output_type": "stream",
     "text": [
      "zscore: 4.10841215243\n",
      "p value: 3.98388683759e-05 \n",
      "\n"
     ]
    }
   ],
   "source": [
    "# population mean p\n",
    "# since there are same number of samples for w and b so that I can do this way\n",
    "pbar = (pw+pb)/2\n",
    "# std\n",
    "s = math.sqrt(2*pbar*(1-pbar)/N)\n",
    "# z\n",
    "z = (pw_pb-0)/s\n",
    "print 'zscore:',z\n",
    "\n",
    "# p_value\n",
    "p_value = stats.norm.sf(abs(z))*2\n",
    "print 'p value:',p_value,'\\n'\n",
    "\n"
   ]
  },
  {
   "cell_type": "code",
   "execution_count": 43,
   "metadata": {
    "collapsed": false
   },
   "outputs": [
    {
     "name": "stdout",
     "output_type": "stream",
     "text": [
      "4.11470529086 3.94294151365e-05\n"
     ]
    }
   ],
   "source": [
    "t, p = stats.ttest_ind(data[data.race == 'w'].call, data[data.race == 'b'].call, equal_var = False)\n",
    "print t,p"
   ]
  },
  {
   "cell_type": "markdown",
   "metadata": {},
   "source": [
    "### 4. Discuss statistical significance.\n",
    "Given the p value is smaller than 0.05, we can conclude that there is a significant difference betweeen the call back probability of white-sounding names and black-sounding names.\n"
   ]
  }
 ],
 "metadata": {
  "kernelspec": {
   "display_name": "Python 2",
   "language": "python",
   "name": "python2"
  },
  "language_info": {
   "codemirror_mode": {
    "name": "ipython",
    "version": 2
   },
   "file_extension": ".py",
   "mimetype": "text/x-python",
   "name": "python",
   "nbconvert_exporter": "python",
   "pygments_lexer": "ipython2",
   "version": "2.7.11"
  }
 },
 "nbformat": 4,
 "nbformat_minor": 0
}

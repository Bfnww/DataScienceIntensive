{
 "cells": [
  {
   "cell_type": "markdown",
   "metadata": {},
   "source": [
    "# XML example and exercise\n",
    "****\n",
    "+ study examples of accessing nodes in XML tree structure  \n",
    "+ work on exercise to be completed and submitted\n",
    "****\n",
    "+ reference: https://docs.python.org/2.7/library/xml.etree.elementtree.html\n",
    "+ data source: http://www.dbis.informatik.uni-goettingen.de/Mondial\n",
    "****"
   ]
  },
  {
   "cell_type": "code",
   "execution_count": 60,
   "metadata": {
    "collapsed": true
   },
   "outputs": [],
   "source": [
    "from xml.etree import ElementTree as ET"
   ]
  },
  {
   "cell_type": "markdown",
   "metadata": {},
   "source": [
    "## XML example\n",
    "\n",
    "+ for details about tree traversal and iterators, see https://docs.python.org/2.7/library/xml.etree.elementtree.html"
   ]
  },
  {
   "cell_type": "code",
   "execution_count": 61,
   "metadata": {
    "collapsed": false
   },
   "outputs": [
    {
     "data": {
      "text/plain": [
       "xml.etree.ElementTree.ElementTree"
      ]
     },
     "execution_count": 61,
     "metadata": {},
     "output_type": "execute_result"
    }
   ],
   "source": [
    "document_tree = ET.parse( './data/mondial_database_less.xml' )\n",
    "type(document_tree)"
   ]
  },
  {
   "cell_type": "code",
   "execution_count": 62,
   "metadata": {
    "collapsed": false
   },
   "outputs": [
    {
     "name": "stdout",
     "output_type": "stream",
     "text": [
      "Albania\n",
      "Greece\n",
      "Macedonia\n",
      "Serbia\n",
      "Montenegro\n",
      "Kosovo\n",
      "Andorra\n"
     ]
    }
   ],
   "source": [
    "# print names of all countries\n",
    "for child in document_tree.getroot():\n",
    "    print(child.find('name').text)"
   ]
  },
  {
   "cell_type": "code",
   "execution_count": 63,
   "metadata": {
    "collapsed": false
   },
   "outputs": [
    {
     "name": "stdout",
     "output_type": "stream",
     "text": [
      "* Albania:\n",
      "Tirana, Shkodër, Durrës, Vlorë, Elbasan, Korçë\n",
      "* Greece:\n",
      "Komotini, Kavala, Athina, Peiraias, Peristeri, Acharnes, Patra, Kozani, Kerkyra, Ioannina, Thessaloniki, Iraklio, Chania, Ermoupoli, Rhodes, Tripoli, Lamia, Chalkida, Larissa, Volos, Mytilini, Karyes\n",
      "* Macedonia:\n",
      "Skopje, Kumanovo\n",
      "* Serbia:\n",
      "Beograd, Novi Sad, Niš\n",
      "* Montenegro:\n",
      "Podgorica\n",
      "* Kosovo:\n",
      "Prishtine\n",
      "* Andorra:\n",
      "Andorra la Vella\n"
     ]
    }
   ],
   "source": [
    "# print names of all countries and their cities\n",
    "for element in document_tree.iterfind('country'):\n",
    "    print('* ' + element.find('name').text + ':'),\n",
    "    capitals_string = ''\n",
    "    for subelement in element.getiterator('city'):\n",
    "        capitals_string += subelement.find('name').text + ', '\n",
    "    print(capitals_string[:-2])"
   ]
  },
  {
   "cell_type": "markdown",
   "metadata": {},
   "source": [
    "****\n",
    "## XML exercise\n",
    "\n",
    "Using data in 'data/mondial_database.xml', the examples above, and refering to https://docs.python.org/2.7/library/xml.etree.elementtree.html, find\n",
    "\n",
    "1. 10 countries with the lowest infant mortality rates\n",
    "2. 10 cities with the largest population\n",
    "3. 10 ethnic groups with the largest overall populations (sum of best/latest estimates over all countries)\n",
    "4. name and country of a) longest river, b) largest lake and c) airport at highest elevation"
   ]
  },
  {
   "cell_type": "code",
   "execution_count": 64,
   "metadata": {
    "collapsed": false
   },
   "outputs": [],
   "source": [
    "document = ET.parse( './data/mondial_database.xml')\n",
    "# print all group name\n",
    "country = document.find('country')\n",
    "for c in country.getiterator():\n",
    "    #print(c.tag)  # print all the tags(variables)\n",
    "    #print(c.attrib)\n",
    "    #print(c.text)\n",
    "    #print(c.tail)\n",
    "    #print(c.tag,c.attrib,c.text,c.tail)\n",
    "    pass"
   ]
  },
  {
   "cell_type": "code",
   "execution_count": 65,
   "metadata": {
    "collapsed": false
   },
   "outputs": [
    {
     "name": "stdout",
     "output_type": "stream",
     "text": [
      "{'country', 'sea', 'desert', 'airport', 'island', 'lake', 'river', 'organization', 'mountain', 'continent'}\n"
     ]
    }
   ],
   "source": [
    "# print all root tag name\n",
    "root = document.getroot()\n",
    "roottaglist = []\n",
    "for child in root:\n",
    "    roottaglist.append(child.tag)\n",
    "# unique value in a list\n",
    "# but set change element order\n",
    "roottagset = set(roottaglist)\n",
    "print(roottagset)"
   ]
  },
  {
   "cell_type": "code",
   "execution_count": 66,
   "metadata": {
    "collapsed": false
   },
   "outputs": [],
   "source": [
    "# print tag name under country\n",
    "a = document.findall(\"./country/ethnicgroup\")\n",
    "#for ai in a:\n",
    "#    print(ai.attrib)\n"
   ]
  },
  {
   "cell_type": "markdown",
   "metadata": {},
   "source": [
    "### 1. 10 countries with the lowest infant mortality rates"
   ]
  },
  {
   "cell_type": "code",
   "execution_count": 67,
   "metadata": {
    "collapsed": false
   },
   "outputs": [
    {
     "name": "stdout",
     "output_type": "stream",
     "text": [
      "[('Norway', 1.81), ('Papua New Guinea', 2.13), ('Faroe Islands', 2.48), ('Anguilla', 2.48), ('Japan', 2.53), ('Finland', 2.6), ('Spain', 2.63), ('Thailand', 2.73), ('Cambodia', 3.13), ('Gibraltar', 3.15)]\n"
     ]
    }
   ],
   "source": [
    "# extract country name and its infant mortality rate\n",
    "clist =[]\n",
    "mortallist =[]\n",
    "for c in document.findall('country'):\n",
    "    for node in c.getchildren():\n",
    "        # get country name\n",
    "        if node.tag == 'name':\n",
    "            clist.append(node.text)\n",
    "        # get infant mortality rate\n",
    "        elif node.tag == 'infant_mortality':\n",
    "            mortallist.append(float(node.text))\n",
    "        \n",
    "# put clist and mortallist into cmdict\n",
    "keys = clist\n",
    "values = mortallist\n",
    "cmdict = dict(zip(keys,values))\n",
    "# print(cmdict)\n",
    "\n",
    "# sort dictionary in ascending order\n",
    "cmdict_sort = sorted(cmdict.items(), key= lambda x:x[1], reverse=False)\n",
    "# print the 10 countries with the lowest infant mortality rates\n",
    "print(cmdict_sort[:10])"
   ]
  },
  {
   "cell_type": "markdown",
   "metadata": {},
   "source": [
    "### 2. 10 cities with the largest population"
   ]
  },
  {
   "cell_type": "code",
   "execution_count": 68,
   "metadata": {
    "collapsed": false
   },
   "outputs": [
    {
     "data": {
      "text/plain": [
       "[('Harare', '100079'),\n",
       " ('Pokhara', '1003285'),\n",
       " ('Gaza', '101000'),\n",
       " ('Cayenne', '104011'),\n",
       " ('Tbilisi', '1060138'),\n",
       " ('Beograd', '107745'),\n",
       " ('Vlorë', '113249'),\n",
       " ('Keflavik', '118061'),\n",
       " ('Galway', '118912'),\n",
       " ('Plovdiv', '1270284')]"
      ]
     },
     "execution_count": 68,
     "metadata": {},
     "output_type": "execute_result"
    }
   ],
   "source": [
    "# extract city name and its population\n",
    "citylist = []\n",
    "poplist = []\n",
    "flag = False\n",
    "for c in document.findall('country'):\n",
    "    for node in c.getchildren():\n",
    "        if node.tag == 'city':\n",
    "            for cn in node.getchildren():\n",
    "                # get city population in 2011\n",
    "                if cn.tag == 'population':\n",
    "                    a = cn.attrib\n",
    "                    if a['year'] == '2011':\n",
    "                        poplist.append(cn.text)\n",
    "                        flag = True\n",
    "                # record the city name if the city has population data\n",
    "                if cn.tag == 'name':\n",
    "                    if flag == True:\n",
    "                        citylist.append(cn.text)\n",
    "                        flag = False\n",
    "# put citylist and poplist in dict\n",
    "keys= citylist\n",
    "values = poplist\n",
    "cpdict = dict(zip(keys,values))\n",
    "# sort dictionary in descending order\n",
    "cpdict_sort = sorted(cpdict.items(), key =lambda x:x[1], reverse = False)\n",
    "cpdict_sort[:10]"
   ]
  },
  {
   "cell_type": "markdown",
   "metadata": {},
   "source": [
    "### 3. 10 ethnic groups with the largest overall populations (sum of best/latest estimates over all countries)"
   ]
  },
  {
   "cell_type": "code",
   "execution_count": 69,
   "metadata": {
    "collapsed": false
   },
   "outputs": [
    {
     "data": {
      "text/plain": [
       "[('Han Chinese', 1245058800),\n",
       " ('Indo-Aryan', 871815583),\n",
       " ('European', 494872201),\n",
       " ('African', 318325104),\n",
       " ('Dravidian', 302713744),\n",
       " ('Mestizo', 157734349),\n",
       " ('Bengali', 146776916),\n",
       " ('Russian', 131856989),\n",
       " ('Japanese', 126534212),\n",
       " ('Malay', 121993548)]"
      ]
     },
     "execution_count": 69,
     "metadata": {},
     "output_type": "execute_result"
    }
   ],
   "source": [
    "import math\n",
    "flagct = False\n",
    "# extract ethnic group and population across countries\n",
    "ethnicpopdict = dict()\n",
    "for c in document.findall('country'):\n",
    "    # get latest population of the country\n",
    "    pops = c.findall('population')\n",
    "    popdict = dict()\n",
    "    \n",
    "    # get population from all years\n",
    "    for ipop in pops:\n",
    "        thisyear = ipop.attrib['year']\n",
    "        popdict[thisyear] = int(ipop.text)\n",
    "    popdict_sort = sorted(popdict.items(), key = lambda x:x[0],reverse = True)\n",
    "    # select the latest population\n",
    "    thispop = popdict_sort[0][1]\n",
    "    \n",
    "    # get ethnic group\n",
    "    eths = c.findall('ethnicgroup')\n",
    "    for ieth in eths:\n",
    "        # get population percentage\n",
    "        popper = float(ieth.attrib['percentage'])\n",
    "        # get population number\n",
    "        popnum = math.floor(thispop*popper/100)\n",
    "        # add population number to this particular ethnic group\n",
    "        # node.text\n",
    "        ethnicpopdict[ieth.text] = ethnicpopdict.get(ieth.text,0)+popnum\n",
    "\n",
    "    \n",
    "    # reset pop for next country\n",
    "    thispop = 0\n",
    "\n",
    "# sort dict\n",
    "ethnicpopdict_sorted = sorted(ethnicpopdict.items(), key =  lambda x:x[1], reverse = True)\n",
    "ethnicpopdict_sorted[:10]\n"
   ]
  },
  {
   "cell_type": "markdown",
   "metadata": {
    "collapsed": false
   },
   "source": [
    "### 4. name and country of a) longest river, b) largest lake and c) airport at highest elevation"
   ]
  },
  {
   "cell_type": "code",
   "execution_count": 70,
   "metadata": {
    "collapsed": false
   },
   "outputs": [
    {
     "name": "stdout",
     "output_type": "stream",
     "text": [
      "('992', {'country': 'R MNG', 'id': 'river-Selenge'})\n",
      "('981', {'country': 'USA', 'type': 'dam', 'id': 'lake-FortPeckLake'})\n",
      "('995', {'iatacode': 'MHD', 'country': 'IR', 'city': 'cty-Iran-3'})\n"
     ]
    }
   ],
   "source": [
    "# river: country -> length\n",
    "# lake:country -> area\n",
    "# airport: country -> elevation\n",
    "def sortdict(d):\n",
    "    dsort = sorted(d.items(), key = lambda x:x[0], reverse = True)\n",
    "    return dsort\n",
    "\n",
    "# extract country name and river, lake and airport information\n",
    "riverlist = dict()\n",
    "lakelist = dict()\n",
    "airportlist =dict()\n",
    "# river\n",
    "for c in document.findall('river'):\n",
    "    for ic in c.getchildren():\n",
    "        if ic.tag == 'length':\n",
    "            riverlist[ic.text] = c.attrib\n",
    "riverlist_sort = sortdict(riverlist)\n",
    "print(riverlist_sort[0])\n",
    "\n",
    "\n",
    "#lake\n",
    "for l in document.findall('lake'):\n",
    "    for ik in l.getchildren():\n",
    "        if ik.tag == 'area':\n",
    "            lakelist[ik.text] = l.attrib\n",
    "lakelist_sort = sortdict(lakelist)\n",
    "print(lakelist_sort[0])\n",
    "\n",
    "\n",
    "# airport\n",
    "for a in document.findall('airport'):\n",
    "    for ia in a.getchildren():\n",
    "        if ia.tag == 'elevation':\n",
    "            if ia.text is None:\n",
    "                airportlist['0'] = a.attrib\n",
    "            else:\n",
    "                airportlist[ia.text] = a.attrib\n",
    "airportlist_sort = sortdict(airportlist)           \n",
    "print(airportlist_sort[0])\n"
   ]
  },
  {
   "cell_type": "code",
   "execution_count": null,
   "metadata": {
    "collapsed": true
   },
   "outputs": [],
   "source": []
  }
 ],
 "metadata": {
  "kernelspec": {
   "display_name": "Python 3",
   "language": "python",
   "name": "python3"
  },
  "language_info": {
   "codemirror_mode": {
    "name": "ipython",
    "version": 3
   },
   "file_extension": ".py",
   "mimetype": "text/x-python",
   "name": "python",
   "nbconvert_exporter": "python",
   "pygments_lexer": "ipython3",
   "version": "3.5.1"
  }
 },
 "nbformat": 4,
 "nbformat_minor": 0
}

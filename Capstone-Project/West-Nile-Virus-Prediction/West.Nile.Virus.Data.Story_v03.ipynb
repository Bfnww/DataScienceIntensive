{
 "cells": [
  {
   "cell_type": "markdown",
   "metadata": {},
   "source": [
    "# West Nile Virus Data Story\n",
    "https://www.kaggle.com/c/predict-west-nile-virus\n",
    "#### Instructions:\n",
    "Pick a dataset - ideally the dataset for your Capstone. If for some reason you want to do this on a different data set, you can find one on Mode Analytics or Google's public data sets directory, or pick another one you like from elsewhere.\n",
    "\n",
    "Get going by asking the following questions and looking for the answers with some code and plots:\n",
    "Can you count something interesting?\n",
    "Can you find some trends (high, low, increase, decrease, anomalies)?\n",
    "Can you make a bar plot or a histogram?\n",
    "Can you compare two related quantities?\n",
    "Can you make a scatterplot?\n",
    "Can you make a time-series plot?\n",
    "\n",
    "Having made these plots, what are some insights you get from them? Do you see any correlations? Is there a hypothesis you would like to investigate further? What other questions do they lead you to ask?\n",
    "\n",
    "By now you’ve asked a bunch of questions, and found some neat insights. Is there an interesting narrative, a way of presenting the insights using text and plots from the above, that tells a compelling story? As you work out this story, what are some other trends/relationships you think will make it more complete?\n",
    "\n",
    "\n",
    "#### Update:\n",
    "    (1) Use sklearn.proprocessing OneHotEncoder to turn categorical variable into numeric\n",
    "        I acutally used pandas.get_dummies\n",
    "    (2) Extract zipcode from address data\n",
    "    (3) Use Pandas merge to join different data source\n",
    "    (4) Use Pandas fillna to replace missing data\n",
    "    (5) Build logistic regression model\n",
    "    (6) Scrape data from website"
   ]
  },
  {
   "cell_type": "code",
   "execution_count": 34,
   "metadata": {
    "collapsed": false
   },
   "outputs": [],
   "source": [
    "import numpy as np\n",
    "import pandas as pd\n",
    "import matplotlib as mpl\n",
    "import matplotlib.pyplot as plt\n",
    "import seaborn as sns\n",
    "import plotly\n",
    "from scipy import stats\n",
    "from sklearn.preprocessing import OneHotEncoder\n",
    "from sklearn.feature_extraction import DictVectorizer\n",
    "% matplotlib inline"
   ]
  },
  {
   "cell_type": "code",
   "execution_count": 32,
   "metadata": {
    "collapsed": false
   },
   "outputs": [],
   "source": [
    "# load data \n",
    "train = pd.read_csv('train.csv')\n",
    "test = pd.read_csv('test.csv')\n",
    "spray = pd.read_csv('spray.csv')\n",
    "weather = pd.read_csv('weather.csv')"
   ]
  },
  {
   "cell_type": "code",
   "execution_count": 37,
   "metadata": {
    "collapsed": false
   },
   "outputs": [
    {
     "name": "stdout",
     "output_type": "stream",
     "text": [
      "train\n",
      "Date                       object\n",
      "Address                    object\n",
      "Species                    object\n",
      "Block                       int64\n",
      "Street                     object\n",
      "Trap                       object\n",
      "AddressNumberAndStreet     object\n",
      "Latitude                  float64\n",
      "Longitude                 float64\n",
      "AddressAccuracy             int64\n",
      "NumMosquitos                int64\n",
      "WnvPresent                  int64\n",
      "dtype: object \n",
      "\n",
      "spray\n",
      "Date          object\n",
      "Time          object\n",
      "Latitude     float64\n",
      "Longitude    float64\n",
      "dtype: object \n",
      "\n",
      "weather\n",
      "Station          int64\n",
      "Date            object\n",
      "Tmax             int64\n",
      "Tmin             int64\n",
      "Tavg            object\n",
      "Depart          object\n",
      "DewPoint         int64\n",
      "WetBulb         object\n",
      "Heat            object\n",
      "Cool            object\n",
      "Sunrise         object\n",
      "Sunset          object\n",
      "CodeSum         object\n",
      "Depth           object\n",
      "Water1          object\n",
      "SnowFall        object\n",
      "PrecipTotal     object\n",
      "StnPressure     object\n",
      "SeaLevel        object\n",
      "ResultSpeed    float64\n",
      "ResultDir        int64\n",
      "AvgSpeed        object\n",
      "dtype: object\n"
     ]
    }
   ],
   "source": [
    "# check data type of dataframe\n",
    "print 'train\\n',train.dtypes,'\\n'\n",
    "print 'spray\\n',spray.dtypes,'\\n'\n",
    "print 'weather\\n',weather.dtypes"
   ]
  },
  {
   "cell_type": "code",
   "execution_count": 57,
   "metadata": {
    "collapsed": false
   },
   "outputs": [
    {
     "data": {
      "text/plain": [
       "{nan}"
      ]
     },
     "execution_count": 57,
     "metadata": {},
     "output_type": "execute_result"
    }
   ],
   "source": [
    "# merge different train and spray\n",
    "train_spray = pd.merge(train,spray, how = 'left',on=['Date','Latitude','Longitude'])\n",
    "test_spary = pd.merge(test,spary, how = 'left', on=['Date','Latitude','Longitude'])\n",
    "set(train_spray['Time'])"
   ]
  },
  {
   "cell_type": "code",
   "execution_count": 23,
   "metadata": {
    "collapsed": false
   },
   "outputs": [
    {
     "name": "stdout",
     "output_type": "stream",
     "text": [
      "<class 'pandas.core.frame.DataFrame'>\n",
      "<class 'pandas.core.frame.DataFrame'>\n",
      "Index([u'Date', u'Address', u'Block', u'Street', u'Trap',\n",
      "       u'AddressNumberAndStreet', u'Latitude', u'Longitude',\n",
      "       u'AddressAccuracy', u'NumMosquitos', u'WnvPresent',\n",
      "       u'Species_CULEX ERRATICUS', u'Species_CULEX PIPIENS',\n",
      "       u'Species_CULEX PIPIENS/RESTUANS', u'Species_CULEX RESTUANS',\n",
      "       u'Species_CULEX SALINARIUS', u'Species_CULEX TARSALIS',\n",
      "       u'Species_CULEX TERRITANS'],\n",
      "      dtype='object')\n"
     ]
    }
   ],
   "source": [
    "# convert \n",
    "train_dummy = pd.get_dummies(train, columns = ['Species'])\n",
    "print type(train_dummy)\n",
    "print type(train)\n",
    "print train_dummy.columns"
   ]
  },
  {
   "cell_type": "markdown",
   "metadata": {},
   "source": []
  },
  {
   "cell_type": "code",
   "execution_count": 11,
   "metadata": {
    "collapsed": false
   },
   "outputs": [
    {
     "data": {
      "text/plain": [
       "sklearn.datasets.base.Bunch"
      ]
     },
     "execution_count": 11,
     "metadata": {},
     "output_type": "execute_result"
    }
   ],
   "source": [
    "# based upon decision tree\n",
    "from sklearn.ensemble import ExtraTreesClassifier\n",
    "from sklearn.feature_selection import SelectFromModel\n"
   ]
  },
  {
   "cell_type": "code",
   "execution_count": 12,
   "metadata": {
    "collapsed": false
   },
   "outputs": [
    {
     "name": "stdout",
     "output_type": "stream",
     "text": [
      "[  1.03597765e-01   9.81884926e-02   5.10310571e-01   1.43754989e-01\n",
      "   8.98397014e-02   3.02357427e-02   1.23851459e-07   1.00631905e-02\n",
      "   4.00621125e-04   1.92597964e-04   6.08365262e-06   4.20377717e-03\n",
      "   9.20634345e-03]\n",
      "['Latitude', 'Longitude', 'NumMosquitos', 'month', 'Block', 'AddressAccuracy', 'CULEX TARSALIS', 'CULEX PIPIENS', 'CULEX TERRITANS', 'CULEX SALINARIUS', 'CULEX ERRATICUS', 'CULEX PIPIENS/RESTUANS', 'CULEX RESTUANS']\n"
     ]
    }
   ],
   "source": [
    "trainsub = train[trainvars].values\n",
    "traintarget = train['WnvPresent'].values\n",
    "clf = ExtraTreesClassifier()\n",
    "clf = clf.fit(trainsub,traintarget)\n",
    "print clf.feature_importances_\n",
    "print trainvars"
   ]
  },
  {
   "cell_type": "code",
   "execution_count": 13,
   "metadata": {
    "collapsed": false
   },
   "outputs": [
    {
     "name": "stdout",
     "output_type": "stream",
     "text": [
      "(10506L, 5L)\n",
      "(10506L, 13L)\n"
     ]
    }
   ],
   "source": [
    "model = SelectFromModel(clf,prefit= True)\n",
    "X_new = model.transform(trainsub)\n",
    "print X_new.shape\n",
    "print trainsub.shape\n"
   ]
  }
 ],
 "metadata": {
  "kernelspec": {
   "display_name": "Python 2",
   "language": "python",
   "name": "python2"
  },
  "language_info": {
   "codemirror_mode": {
    "name": "ipython",
    "version": 2
   },
   "file_extension": ".py",
   "mimetype": "text/x-python",
   "name": "python",
   "nbconvert_exporter": "python",
   "pygments_lexer": "ipython2",
   "version": "2.7.11"
  }
 },
 "nbformat": 4,
 "nbformat_minor": 0
}

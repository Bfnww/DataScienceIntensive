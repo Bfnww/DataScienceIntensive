{
 "cells": [
  {
   "cell_type": "markdown",
   "metadata": {},
   "source": [
    "# West Nile Virus Data Story\n",
    "https://www.kaggle.com/c/predict-west-nile-virus\n",
    "#### Instructions:\n",
    "Pick a dataset - ideally the dataset for your Capstone. If for some reason you want to do this on a different data set, you can find one on Mode Analytics or Google's public data sets directory, or pick another one you like from elsewhere.\n",
    "\n",
    "Get going by asking the following questions and looking for the answers with some code and plots:\n",
    "Can you count something interesting?\n",
    "Can you find some trends (high, low, increase, decrease, anomalies)?\n",
    "Can you make a bar plot or a histogram?\n",
    "Can you compare two related quantities?\n",
    "Can you make a scatterplot?\n",
    "Can you make a time-series plot?\n",
    "\n",
    "Having made these plots, what are some insights you get from them? Do you see any correlations? Is there a hypothesis you would like to investigate further? What other questions do they lead you to ask?\n",
    "\n",
    "By now you’ve asked a bunch of questions, and found some neat insights. Is there an interesting narrative, a way of presenting the insights using text and plots from the above, that tells a compelling story? As you work out this story, what are some other trends/relationships you think will make it more complete?\n",
    "\n",
    "\n",
    "#### Update:\n",
    "    (1) Use sklearn.proprocessing OneHotEncoder to turn categorical variable into numeric\n",
    "        I acutally used pandas.get_dummies\n",
    "    (2) Extract zipcode from address data\n",
    "    (3) Use Pandas merge to join different data source\n",
    "    (4) Use Pandas fillna to replace missing data\n",
    "    \n",
    "    \n",
    "    to do:\n",
    "    Build logistic regression model\n",
    "    Scrape data from website"
   ]
  },
  {
   "cell_type": "code",
   "execution_count": 1,
   "metadata": {
    "collapsed": false
   },
   "outputs": [],
   "source": [
    "import numpy as np\n",
    "import pandas as pd\n",
    "import matplotlib as mpl\n",
    "import matplotlib.pyplot as plt\n",
    "import seaborn as sns\n",
    "import plotly\n",
    "from scipy import stats\n",
    "from sklearn.preprocessing import OneHotEncoder\n",
    "from sklearn.feature_extraction import DictVectorizer\n",
    "% matplotlib inline"
   ]
  },
  {
   "cell_type": "code",
   "execution_count": 2,
   "metadata": {
    "collapsed": false
   },
   "outputs": [],
   "source": [
    "# load data \n",
    "train = pd.read_csv('train.csv')\n",
    "test = pd.read_csv('test.csv')\n",
    "spray = pd.read_csv('spray.csv')\n",
    "weather = pd.read_csv('weather.csv')"
   ]
  },
  {
   "cell_type": "code",
   "execution_count": 3,
   "metadata": {
    "collapsed": false
   },
   "outputs": [
    {
     "name": "stdout",
     "output_type": "stream",
     "text": [
      "train\n",
      "Date                       object\n",
      "Address                    object\n",
      "Species                    object\n",
      "Block                       int64\n",
      "Street                     object\n",
      "Trap                       object\n",
      "AddressNumberAndStreet     object\n",
      "Latitude                  float64\n",
      "Longitude                 float64\n",
      "AddressAccuracy             int64\n",
      "NumMosquitos                int64\n",
      "WnvPresent                  int64\n",
      "dtype: object \n",
      "\n",
      "spray\n",
      "Date          object\n",
      "Time          object\n",
      "Latitude     float64\n",
      "Longitude    float64\n",
      "dtype: object \n",
      "\n",
      "weather\n",
      "Station          int64\n",
      "Date            object\n",
      "Tmax             int64\n",
      "Tmin             int64\n",
      "Tavg            object\n",
      "Depart          object\n",
      "DewPoint         int64\n",
      "WetBulb         object\n",
      "Heat            object\n",
      "Cool            object\n",
      "Sunrise         object\n",
      "Sunset          object\n",
      "CodeSum         object\n",
      "Depth           object\n",
      "Water1          object\n",
      "SnowFall        object\n",
      "PrecipTotal     object\n",
      "StnPressure     object\n",
      "SeaLevel        object\n",
      "ResultSpeed    float64\n",
      "ResultDir        int64\n",
      "AvgSpeed        object\n",
      "dtype: object\n"
     ]
    }
   ],
   "source": [
    "# check data type of dataframe\n",
    "print 'train\\n',train.dtypes,'\\n'\n",
    "print 'spray\\n',spray.dtypes,'\\n'\n",
    "print 'weather\\n',weather.dtypes"
   ]
  },
  {
   "cell_type": "markdown",
   "metadata": {},
   "source": [
    "### Extract zip code from address and add it as a new column 'Zipcode'"
   ]
  },
  {
   "cell_type": "code",
   "execution_count": 4,
   "metadata": {
    "collapsed": false
   },
   "outputs": [
    {
     "name": "stdout",
     "output_type": "stream",
     "text": [
      "Date                       object\n",
      "Address                    object\n",
      "Species                    object\n",
      "Block                       int64\n",
      "Street                     object\n",
      "Trap                       object\n",
      "AddressNumberAndStreet     object\n",
      "Latitude                  float64\n",
      "Longitude                 float64\n",
      "AddressAccuracy             int64\n",
      "NumMosquitos                int64\n",
      "WnvPresent                  int64\n",
      "zipcode                    object\n",
      "dtype: object\n"
     ]
    }
   ],
   "source": [
    "# extract zip code from Address column and add to column 'Zipcode'\n",
    "import re\n",
    "def address2zip(address):\n",
    "    extzip = re.match('^.*(?P<zipcode>\\d{5}).*$', address)\n",
    "    if extzip is None:\n",
    "        zipcode = 'na'\n",
    "    else:\n",
    "        zipcode = extzip.groupdict()['zipcode']\n",
    "    return zipcode\n",
    "\n",
    "\n",
    "# add zipcode column to train dataset\n",
    "def addzip2df(df):\n",
    "    zipcodes =[]\n",
    "    rownum = df.shape\n",
    "    rownum = rownum[0]\n",
    "    for i in range(0,rownum):\n",
    "        add = df.iloc[i]['Address']\n",
    "        z = address2zip(add)\n",
    "        zipcodes.append(z)\n",
    "    df['zipcode'] = zipcodes\n",
    "    return df\n",
    "    \n",
    "traindf = addzip2df(train)\n",
    "testdf = addzip2df(test)\n",
    "\n",
    "print traindf.dtypes"
   ]
  },
  {
   "cell_type": "code",
   "execution_count": 5,
   "metadata": {
    "collapsed": false
   },
   "outputs": [
    {
     "name": "stdout",
     "output_type": "stream",
     "text": [
      "train Date                       object\n",
      "Address                    object\n",
      "Species                    object\n",
      "Block                       int64\n",
      "Street                     object\n",
      "Trap                       object\n",
      "AddressNumberAndStreet     object\n",
      "Latitude                  float64\n",
      "Longitude                 float64\n",
      "AddressAccuracy             int64\n",
      "NumMosquitos                int64\n",
      "WnvPresent                  int64\n",
      "zipcode                    object\n",
      "dtype: object \n",
      "\n",
      "test Id                          int64\n",
      "Date                       object\n",
      "Address                    object\n",
      "Species                    object\n",
      "Block                       int64\n",
      "Street                     object\n",
      "Trap                       object\n",
      "AddressNumberAndStreet     object\n",
      "Latitude                  float64\n",
      "Longitude                 float64\n",
      "AddressAccuracy             int64\n",
      "zipcode                    object\n",
      "dtype: object\n",
      "Date                                                             2007-05-29\n",
      "Address                   4100 North Oak Park Avenue, Chicago, IL 60634,...\n",
      "Species                                              CULEX PIPIENS/RESTUANS\n",
      "Block                                                                    41\n",
      "Street                                                       N OAK PARK AVE\n",
      "Trap                                                                   T002\n",
      "AddressNumberAndStreet                    4100  N OAK PARK AVE, Chicago, IL\n",
      "Latitude                                                            41.9547\n",
      "Longitude                                                           -87.801\n",
      "AddressAccuracy                                                           9\n",
      "NumMosquitos                                                              1\n",
      "WnvPresent                                                                0\n",
      "zipcode                                                               60634\n",
      "Name: 0, dtype: object\n"
     ]
    }
   ],
   "source": [
    "print 'train',traindf.dtypes,'\\n'\n",
    "print 'test',testdf.dtypes\n",
    "print traindf.iloc[0]"
   ]
  },
  {
   "cell_type": "markdown",
   "metadata": {},
   "source": [
    "### Convert categorical variable to dummy variables"
   ]
  },
  {
   "cell_type": "code",
   "execution_count": 6,
   "metadata": {
    "collapsed": false
   },
   "outputs": [],
   "source": [
    "traindfdummy = pd.get_dummies(traindf,columns = ['Species','zipcode'])\n",
    "testdfdummy = pd.get_dummies(testdf,columns = ['Species','zipcode'])"
   ]
  },
  {
   "cell_type": "markdown",
   "metadata": {},
   "source": [
    "### Fill missing value"
   ]
  },
  {
   "cell_type": "code",
   "execution_count": 7,
   "metadata": {
    "collapsed": true
   },
   "outputs": [],
   "source": [
    "traindfdummy_fill = traindfdummy.fillna('ffill')\n",
    "testdfdummy_fill = testdfdummy.fillna('ffill')"
   ]
  },
  {
   "cell_type": "markdown",
   "metadata": {},
   "source": [
    "### Merge different tables"
   ]
  },
  {
   "cell_type": "code",
   "execution_count": 8,
   "metadata": {
    "collapsed": false
   },
   "outputs": [
    {
     "data": {
      "text/plain": [
       "Date                                                             2007-05-29\n",
       "Address                   4100 North Oak Park Avenue, Chicago, IL 60634,...\n",
       "Species                                              CULEX PIPIENS/RESTUANS\n",
       "Block                                                                    41\n",
       "Street                                                       N OAK PARK AVE\n",
       "Trap                                                                   T002\n",
       "AddressNumberAndStreet                    4100  N OAK PARK AVE, Chicago, IL\n",
       "Latitude                                                            41.9547\n",
       "Longitude                                                           -87.801\n",
       "AddressAccuracy                                                           9\n",
       "NumMosquitos                                                              1\n",
       "WnvPresent                                                                0\n",
       "zipcode                                                               60634\n",
       "Time                                                                    NaN\n",
       "Name: 0, dtype: object"
      ]
     },
     "execution_count": 8,
     "metadata": {},
     "output_type": "execute_result"
    }
   ],
   "source": [
    "# merge train and spray\n",
    "train_spray = pd.merge(train,spray, how = 'left',on=['Date','Latitude','Longitude'])\n",
    "test_spary = pd.merge(test,spray, how = 'left', on=['Date','Latitude','Longitude'])\n",
    "train_spray.iloc[0]"
   ]
  },
  {
   "cell_type": "code",
   "execution_count": 9,
   "metadata": {
    "collapsed": false
   },
   "outputs": [
    {
     "ename": "TypeError",
     "evalue": "merge() got multiple values for keyword argument 'how'",
     "output_type": "error",
     "traceback": [
      "\u001b[1;31m---------------------------------------------------------------------------\u001b[0m",
      "\u001b[1;31mTypeError\u001b[0m                                 Traceback (most recent call last)",
      "\u001b[1;32m<ipython-input-9-c948dbc822a4>\u001b[0m in \u001b[0;36m<module>\u001b[1;34m()\u001b[0m\n\u001b[0;32m      3\u001b[0m '''\n\u001b[0;32m      4\u001b[0m \u001b[1;31m# merge train_spray and weather\u001b[0m\u001b[1;33m\u001b[0m\u001b[1;33m\u001b[0m\u001b[0m\n\u001b[1;32m----> 5\u001b[1;33m \u001b[0mtrainset\u001b[0m \u001b[1;33m=\u001b[0m \u001b[0mtrain_spray\u001b[0m\u001b[1;33m.\u001b[0m\u001b[0mmerge\u001b[0m\u001b[1;33m(\u001b[0m\u001b[0mtrain_spray\u001b[0m\u001b[1;33m,\u001b[0m \u001b[0mweather\u001b[0m\u001b[1;33m[\u001b[0m\u001b[1;33m[\u001b[0m\u001b[1;34m'Date'\u001b[0m\u001b[1;33m,\u001b[0m\u001b[1;34m'Heat'\u001b[0m\u001b[1;33m,\u001b[0m\u001b[1;34m'PrecipTotal'\u001b[0m\u001b[1;33m]\u001b[0m\u001b[1;33m]\u001b[0m\u001b[1;33m,\u001b[0m \u001b[0mhow\u001b[0m \u001b[1;33m=\u001b[0m \u001b[1;34m'left'\u001b[0m\u001b[1;33m,\u001b[0m \u001b[0mon\u001b[0m \u001b[1;33m=\u001b[0m \u001b[1;33m[\u001b[0m\u001b[1;34m'Date'\u001b[0m\u001b[1;33m]\u001b[0m\u001b[1;33m)\u001b[0m\u001b[1;33m\u001b[0m\u001b[0m\n\u001b[0m\u001b[0;32m      6\u001b[0m \u001b[0mtestset\u001b[0m \u001b[1;33m=\u001b[0m \u001b[0mtest_spray\u001b[0m\u001b[1;33m.\u001b[0m\u001b[0mmerge\u001b[0m\u001b[1;33m(\u001b[0m\u001b[0mtest_spray\u001b[0m\u001b[1;33m,\u001b[0m \u001b[0mweather\u001b[0m\u001b[1;33m[\u001b[0m\u001b[1;33m[\u001b[0m\u001b[1;34m'Date'\u001b[0m\u001b[1;33m,\u001b[0m\u001b[1;34m'Heat'\u001b[0m\u001b[1;33m,\u001b[0m\u001b[1;34m'PrecipTotal'\u001b[0m\u001b[1;33m]\u001b[0m\u001b[1;33m]\u001b[0m\u001b[1;33m,\u001b[0m \u001b[0mhow\u001b[0m \u001b[1;33m=\u001b[0m \u001b[1;34m'left'\u001b[0m\u001b[1;33m,\u001b[0m \u001b[0mon\u001b[0m \u001b[1;33m=\u001b[0m \u001b[1;33m[\u001b[0m\u001b[1;34m'Date'\u001b[0m\u001b[1;33m]\u001b[0m\u001b[1;33m)\u001b[0m\u001b[1;33m\u001b[0m\u001b[0m\n",
      "\u001b[1;31mTypeError\u001b[0m: merge() got multiple values for keyword argument 'how'"
     ]
    }
   ],
   "source": [
    "'''\n",
    "This part does not work\n",
    "'''\n",
    "# merge train_spray and weather\n",
    "trainset = train_spray.merge(train_spray, weather[['Date','Heat','PrecipTotal']], how = 'left', on = ['Date'])\n",
    "testset = test_spray.merge(test_spray, weather[['Date','Heat','PrecipTotal']], how = 'left', on = ['Date'])"
   ]
  }
 ],
 "metadata": {
  "kernelspec": {
   "display_name": "Python 2",
   "language": "python",
   "name": "python2"
  },
  "language_info": {
   "codemirror_mode": {
    "name": "ipython",
    "version": 2
   },
   "file_extension": ".py",
   "mimetype": "text/x-python",
   "name": "python",
   "nbconvert_exporter": "python",
   "pygments_lexer": "ipython2",
   "version": "2.7.11"
  }
 },
 "nbformat": 4,
 "nbformat_minor": 0
}

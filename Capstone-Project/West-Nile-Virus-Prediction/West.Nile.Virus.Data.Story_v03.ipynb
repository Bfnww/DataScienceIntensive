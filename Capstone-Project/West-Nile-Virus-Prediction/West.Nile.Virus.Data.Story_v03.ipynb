{
 "cells": [
  {
   "cell_type": "markdown",
   "metadata": {},
   "source": [
    "# West Nile Virus Data Story\n",
    "https://www.kaggle.com/c/predict-west-nile-virus\n",
    "#### Instructions:\n",
    "Pick a dataset - ideally the dataset for your Capstone. If for some reason you want to do this on a different data set, you can find one on Mode Analytics or Google's public data sets directory, or pick another one you like from elsewhere.\n",
    "\n",
    "Get going by asking the following questions and looking for the answers with some code and plots:\n",
    "Can you count something interesting?\n",
    "Can you find some trends (high, low, increase, decrease, anomalies)?\n",
    "Can you make a bar plot or a histogram?\n",
    "Can you compare two related quantities?\n",
    "Can you make a scatterplot?\n",
    "Can you make a time-series plot?\n",
    "\n",
    "Having made these plots, what are some insights you get from them? Do you see any correlations? Is there a hypothesis you would like to investigate further? What other questions do they lead you to ask?\n",
    "\n",
    "By now you’ve asked a bunch of questions, and found some neat insights. Is there an interesting narrative, a way of presenting the insights using text and plots from the above, that tells a compelling story? As you work out this story, what are some other trends/relationships you think will make it more complete?\n",
    "\n",
    "\n",
    "#### Update:\n",
    "    (1) Use sklearn.proprocessing OneHotEncoder to turn categorical variable into numeric\n",
    "        I acutally used pandas.get_dummies\n",
    "    (2) Extract zipcode from address data\n",
    "    (3) Use Pandas merge to join different data source\n",
    "    (4) Use Pandas fillna to replace missing data\n",
    "    \n",
    "    \n",
    "    to do:\n",
    "    Build logistic regression model\n",
    "    Scrape data from website"
   ]
  },
  {
   "cell_type": "code",
   "execution_count": 11,
   "metadata": {
    "collapsed": false
   },
   "outputs": [],
   "source": [
    "import numpy as np\n",
    "import pandas as pd\n",
    "import matplotlib as mpl\n",
    "import matplotlib.pyplot as plt\n",
    "import seaborn as sns\n",
    "import plotly\n",
    "from scipy import stats \n",
    "from sklearn.preprocessing import OneHotEncoder\n",
    "from sklearn.feature_extraction import DictVectorizer\n",
    "from sklearn import metrics\n",
    "% matplotlib inline"
   ]
  },
  {
   "cell_type": "code",
   "execution_count": 13,
   "metadata": {
    "collapsed": false
   },
   "outputs": [
    {
     "name": "stdout",
     "output_type": "stream",
     "text": [
      "\n"
     ]
    }
   ],
   "source": [
    "# load data \n",
    "train = pd.read_csv('train.csv')\n",
    "test = pd.read_csv('test.csv')\n",
    "spray = pd.read_csv('spray.csv')\n",
    "weather = pd.read_csv('weather.csv')\n",
    "train_label = train['WnvPresent']"
   ]
  },
  {
   "cell_type": "code",
   "execution_count": 17,
   "metadata": {
    "collapsed": false
   },
   "outputs": [
    {
     "name": "stdout",
     "output_type": "stream",
     "text": [
      "train\n",
      "Date                       object\n",
      "Address                    object\n",
      "Species                    object\n",
      "Block                       int64\n",
      "Street                     object\n",
      "Trap                       object\n",
      "AddressNumberAndStreet     object\n",
      "Latitude                  float64\n",
      "Longitude                 float64\n",
      "AddressAccuracy             int64\n",
      "NumMosquitos                int64\n",
      "WnvPresent                  int64\n",
      "dtype: object \n",
      "\n",
      "test\n",
      "Id                          int64\n",
      "Date                       object\n",
      "Address                    object\n",
      "Species                    object\n",
      "Block                       int64\n",
      "Street                     object\n",
      "Trap                       object\n",
      "AddressNumberAndStreet     object\n",
      "Latitude                  float64\n",
      "Longitude                 float64\n",
      "AddressAccuracy             int64\n",
      "dtype: object \n",
      "\n",
      "spray\n",
      "Date          object\n",
      "Time          object\n",
      "Latitude     float64\n",
      "Longitude    float64\n",
      "dtype: object \n",
      "\n",
      "weather\n",
      "Station          int64\n",
      "Date            object\n",
      "Tmax             int64\n",
      "Tmin             int64\n",
      "Tavg            object\n",
      "Depart          object\n",
      "DewPoint         int64\n",
      "WetBulb         object\n",
      "Heat            object\n",
      "Cool            object\n",
      "Sunrise         object\n",
      "Sunset          object\n",
      "CodeSum         object\n",
      "Depth           object\n",
      "Water1          object\n",
      "SnowFall        object\n",
      "PrecipTotal     object\n",
      "StnPressure     object\n",
      "SeaLevel        object\n",
      "ResultSpeed    float64\n",
      "ResultDir        int64\n",
      "AvgSpeed        object\n",
      "dtype: object\n"
     ]
    }
   ],
   "source": [
    "# check data type of dataframe\n",
    "print 'train\\n',train.dtypes,'\\n'\n",
    "print 'test\\n',test.dtypes,'\\n'\n",
    "print 'spray\\n',spray.dtypes,'\\n'\n",
    "print 'weather\\n',weather.dtypes"
   ]
  },
  {
   "cell_type": "markdown",
   "metadata": {},
   "source": [
    "### Baselines"
   ]
  },
  {
   "cell_type": "code",
   "execution_count": 16,
   "metadata": {
    "collapsed": false
   },
   "outputs": [
    {
     "name": "stdout",
     "output_type": "stream",
     "text": [
      "Accuracy when predicting all with virus =  0.0524462212069\n",
      "Accuracy when predicting all without virus =  0.947553778793\n"
     ]
    }
   ],
   "source": [
    "# predict all with virus \n",
    "print \"Accuracy when predicting all with virus = \", metrics.accuracy_score(train_label, np.ones(train_label.shape))\n",
    "# predict all without virus\n",
    "print \"Accuracy when predicting all without virus = \", metrics.accuracy_score(train_label, np.zeros(train_label.shape))"
   ]
  },
  {
   "cell_type": "markdown",
   "metadata": {},
   "source": [
    "The baseline probablity of no virus detected is around 0.948."
   ]
  },
  {
   "cell_type": "markdown",
   "metadata": {},
   "source": [
    "The number of mosquitos is not included in the test dataset, use number of mosquitos to predict the detection of virus."
   ]
  },
  {
   "cell_type": "code",
   "execution_count": 18,
   "metadata": {
    "collapsed": false
   },
   "outputs": [
    {
     "name": "stdout",
     "output_type": "stream",
     "text": [
      "Accuracy when predicting num of mos >=50 with virus =  0.87112126404\n"
     ]
    }
   ],
   "source": [
    "# predict with virus if number of mosquitos >=50\n",
    "print \"Accuracy when predicting num of mos >=50 with virus = \", metrics.accuracy_score(train_label,train['NumMosquitos']>=50)"
   ]
  },
  {
   "cell_type": "markdown",
   "metadata": {},
   "source": [
    "### Extract zip code from address and add it as a new column 'Zipcode'"
   ]
  },
  {
   "cell_type": "code",
   "execution_count": 4,
   "metadata": {
    "collapsed": false
   },
   "outputs": [
    {
     "name": "stdout",
     "output_type": "stream",
     "text": [
      "Date                       object\n",
      "Address                    object\n",
      "Species                    object\n",
      "Block                       int64\n",
      "Street                     object\n",
      "Trap                       object\n",
      "AddressNumberAndStreet     object\n",
      "Latitude                  float64\n",
      "Longitude                 float64\n",
      "AddressAccuracy             int64\n",
      "NumMosquitos                int64\n",
      "WnvPresent                  int64\n",
      "zipcode                    object\n",
      "dtype: object\n"
     ]
    }
   ],
   "source": [
    "# extract zip code from Address column and add to column 'Zipcode'\n",
    "import re\n",
    "def address2zip(address):\n",
    "    extzip = re.match('^.*(?P<zipcode>\\d{5}).*$', address)\n",
    "    if extzip is None:\n",
    "        zipcode = 'na'\n",
    "    else:\n",
    "        zipcode = extzip.groupdict()['zipcode']\n",
    "    return zipcode\n",
    "\n",
    "\n",
    "# add zipcode column to train dataset\n",
    "def addzip2df(df):\n",
    "    zipcodes =[]\n",
    "    rownum = df.shape\n",
    "    rownum = rownum[0]\n",
    "    for i in range(0,rownum):\n",
    "        add = df.iloc[i]['Address']\n",
    "        z = address2zip(add)\n",
    "        zipcodes.append(z)\n",
    "    df['zipcode'] = zipcodes\n",
    "    return df\n",
    "    \n",
    "traindf = addzip2df(train)\n",
    "testdf = addzip2df(test)\n",
    "\n",
    "print traindf.dtypes"
   ]
  },
  {
   "cell_type": "code",
   "execution_count": 5,
   "metadata": {
    "collapsed": false
   },
   "outputs": [
    {
     "name": "stdout",
     "output_type": "stream",
     "text": [
      "train Date                       object\n",
      "Address                    object\n",
      "Species                    object\n",
      "Block                       int64\n",
      "Street                     object\n",
      "Trap                       object\n",
      "AddressNumberAndStreet     object\n",
      "Latitude                  float64\n",
      "Longitude                 float64\n",
      "AddressAccuracy             int64\n",
      "NumMosquitos                int64\n",
      "WnvPresent                  int64\n",
      "zipcode                    object\n",
      "dtype: object \n",
      "\n",
      "test Id                          int64\n",
      "Date                       object\n",
      "Address                    object\n",
      "Species                    object\n",
      "Block                       int64\n",
      "Street                     object\n",
      "Trap                       object\n",
      "AddressNumberAndStreet     object\n",
      "Latitude                  float64\n",
      "Longitude                 float64\n",
      "AddressAccuracy             int64\n",
      "zipcode                    object\n",
      "dtype: object\n",
      "Date                                                             2007-05-29\n",
      "Address                   4100 North Oak Park Avenue, Chicago, IL 60634,...\n",
      "Species                                              CULEX PIPIENS/RESTUANS\n",
      "Block                                                                    41\n",
      "Street                                                       N OAK PARK AVE\n",
      "Trap                                                                   T002\n",
      "AddressNumberAndStreet                    4100  N OAK PARK AVE, Chicago, IL\n",
      "Latitude                                                            41.9547\n",
      "Longitude                                                           -87.801\n",
      "AddressAccuracy                                                           9\n",
      "NumMosquitos                                                              1\n",
      "WnvPresent                                                                0\n",
      "zipcode                                                               60634\n",
      "Name: 0, dtype: object\n"
     ]
    }
   ],
   "source": [
    "print 'train',traindf.dtypes,'\\n'\n",
    "print 'test',testdf.dtypes\n",
    "print traindf.iloc[0]"
   ]
  },
  {
   "cell_type": "markdown",
   "metadata": {},
   "source": [
    "### Convert categorical variable to dummy variables"
   ]
  },
  {
   "cell_type": "code",
   "execution_count": 6,
   "metadata": {
    "collapsed": false
   },
   "outputs": [],
   "source": [
    "traindfdummy = pd.get_dummies(traindf,columns = ['Species','zipcode'])\n",
    "testdfdummy = pd.get_dummies(testdf,columns = ['Species','zipcode'])"
   ]
  },
  {
   "cell_type": "markdown",
   "metadata": {},
   "source": [
    "### Fill missing value"
   ]
  },
  {
   "cell_type": "code",
   "execution_count": 7,
   "metadata": {
    "collapsed": true
   },
   "outputs": [],
   "source": [
    "traindfdummy_fill = traindfdummy.fillna('ffill')\n",
    "testdfdummy_fill = testdfdummy.fillna('ffill')"
   ]
  },
  {
   "cell_type": "markdown",
   "metadata": {},
   "source": [
    "### Merge different tables"
   ]
  },
  {
   "cell_type": "code",
   "execution_count": 10,
   "metadata": {
    "collapsed": false
   },
   "outputs": [
    {
     "name": "stdout",
     "output_type": "stream",
     "text": [
      "set([nan])\n"
     ]
    }
   ],
   "source": [
    "# merge train and spray\n",
    "#train_spray = pd.merge(train,spray, how = 'left',on=['Date','Latitude','Longitude'])\n",
    "#test_spray = pd.merge(test,spray, how = 'left', on=['Date','Latitude','Longitude'])\n",
    "#train_spray.iloc[0]\n",
    "\n",
    "train_spray = pd.merge(spray,train, how = 'right',on=['Date','Latitude','Longitude'])\n",
    "test_spray = pd.merge(spray,test, how = 'right', on=['Date','Latitude','Longitude'])\n",
    "\n",
    "\n",
    "print set(train_spray['Time'])\n",
    "# print len(train)\n",
    "# print len(train_spray)\n",
    "# print len(spray)\n",
    "\n",
    "# print train_spray.iloc[0]\n",
    "# print train.iloc[0]\n",
    "# print spray.iloc[0]"
   ]
  },
  {
   "cell_type": "code",
   "execution_count": 9,
   "metadata": {
    "collapsed": false
   },
   "outputs": [
    {
     "data": {
      "text/plain": [
       "{nan}"
      ]
     },
     "execution_count": 9,
     "metadata": {},
     "output_type": "execute_result"
    }
   ],
   "source": [
    "'''\n",
    "This part does not work\n",
    "'''\n",
    "# merge train_spray and weather\n",
    "trainset = pd.merge(weather[['Date','Heat','PrecipTotal']],train_spray, how = 'right', on = ['Date'])\n",
    "testset = pd.merge(weather[['Date','Heat','PrecipTotal']],test_spray, how = 'right', on = ['Date'])\n",
    "\n",
    "set(trainset['Heat'])"
   ]
  }
 ],
 "metadata": {
  "kernelspec": {
   "display_name": "Python 2",
   "language": "python",
   "name": "python2"
  },
  "language_info": {
   "codemirror_mode": {
    "name": "ipython",
    "version": 2
   },
   "file_extension": ".py",
   "mimetype": "text/x-python",
   "name": "python",
   "nbconvert_exporter": "python",
   "pygments_lexer": "ipython2",
   "version": "2.7.11"
  }
 },
 "nbformat": 4,
 "nbformat_minor": 0
}
